{
 "cells": [
  {
   "cell_type": "code",
   "execution_count": 1,
   "metadata": {},
   "outputs": [],
   "source": [
    "import pandas as pd\n",
    "import numpy as np\n",
    "import matplotlib.pyplot as plt\n",
    "import seaborn as sns\n",
    "from sklearn.model_selection import train_test_split\n",
    "from sklearn.pipeline import make_pipeline\n",
    "from sklearn.datasets import make_classification"
   ]
  },
  {
   "cell_type": "code",
   "execution_count": 2,
   "metadata": {},
   "outputs": [],
   "source": [
    "turnip_data = pd.read_csv('../Database/stonksData.csv')"
   ]
  },
  {
   "cell_type": "code",
   "execution_count": 3,
   "metadata": {},
   "outputs": [
    {
     "data": {
      "text/html": [
       "<div>\n",
       "<style scoped>\n",
       "    .dataframe tbody tr th:only-of-type {\n",
       "        vertical-align: middle;\n",
       "    }\n",
       "\n",
       "    .dataframe tbody tr th {\n",
       "        vertical-align: top;\n",
       "    }\n",
       "\n",
       "    .dataframe thead th {\n",
       "        text-align: right;\n",
       "    }\n",
       "</style>\n",
       "<table border=\"1\" class=\"dataframe\">\n",
       "  <thead>\n",
       "    <tr style=\"text-align: right;\">\n",
       "      <th></th>\n",
       "      <th>Buy Price</th>\n",
       "      <th>Mon AM</th>\n",
       "      <th>Mon PM</th>\n",
       "      <th>Tue AM</th>\n",
       "      <th>Tue PM</th>\n",
       "      <th>Wed AM</th>\n",
       "      <th>Wed PM</th>\n",
       "      <th>Thu AM</th>\n",
       "      <th>Thu PM</th>\n",
       "      <th>Fri AM</th>\n",
       "      <th>Fri PM</th>\n",
       "      <th>Sat AM</th>\n",
       "      <th>Sat PM</th>\n",
       "      <th>Previous Pattern</th>\n",
       "      <th>Pattern</th>\n",
       "    </tr>\n",
       "  </thead>\n",
       "  <tbody>\n",
       "    <tr>\n",
       "      <th>0</th>\n",
       "      <td>NaN</td>\n",
       "      <td>126.0</td>\n",
       "      <td>94.0</td>\n",
       "      <td>107.0</td>\n",
       "      <td>71.0</td>\n",
       "      <td>64.0</td>\n",
       "      <td>146.0</td>\n",
       "      <td>146.0</td>\n",
       "      <td>76.0</td>\n",
       "      <td>70.0</td>\n",
       "      <td>66.0</td>\n",
       "      <td>146.0</td>\n",
       "      <td>146.0</td>\n",
       "      <td>2</td>\n",
       "      <td>0.0</td>\n",
       "    </tr>\n",
       "    <tr>\n",
       "      <th>1</th>\n",
       "      <td>NaN</td>\n",
       "      <td>126.0</td>\n",
       "      <td>94.0</td>\n",
       "      <td>107.0</td>\n",
       "      <td>71.0</td>\n",
       "      <td>64.0</td>\n",
       "      <td>53.0</td>\n",
       "      <td>90.0</td>\n",
       "      <td>76.0</td>\n",
       "      <td>70.0</td>\n",
       "      <td>90.0</td>\n",
       "      <td>90.0</td>\n",
       "      <td>90.0</td>\n",
       "      <td>2</td>\n",
       "      <td>0.0</td>\n",
       "    </tr>\n",
       "    <tr>\n",
       "      <th>2</th>\n",
       "      <td>NaN</td>\n",
       "      <td>126.0</td>\n",
       "      <td>94.0</td>\n",
       "      <td>107.0</td>\n",
       "      <td>71.0</td>\n",
       "      <td>64.0</td>\n",
       "      <td>53.0</td>\n",
       "      <td>146.0</td>\n",
       "      <td>76.0</td>\n",
       "      <td>70.0</td>\n",
       "      <td>94.0</td>\n",
       "      <td>146.0</td>\n",
       "      <td>146.0</td>\n",
       "      <td>2</td>\n",
       "      <td>0.0</td>\n",
       "    </tr>\n",
       "    <tr>\n",
       "      <th>3</th>\n",
       "      <td>NaN</td>\n",
       "      <td>126.0</td>\n",
       "      <td>94.0</td>\n",
       "      <td>107.0</td>\n",
       "      <td>71.0</td>\n",
       "      <td>64.0</td>\n",
       "      <td>53.0</td>\n",
       "      <td>146.0</td>\n",
       "      <td>76.0</td>\n",
       "      <td>70.0</td>\n",
       "      <td>94.0</td>\n",
       "      <td>94.0</td>\n",
       "      <td>94.0</td>\n",
       "      <td>2</td>\n",
       "      <td>0.0</td>\n",
       "    </tr>\n",
       "    <tr>\n",
       "      <th>4</th>\n",
       "      <td>107.0</td>\n",
       "      <td>93.0</td>\n",
       "      <td>88.0</td>\n",
       "      <td>85.0</td>\n",
       "      <td>80.0</td>\n",
       "      <td>118.0</td>\n",
       "      <td>208.0</td>\n",
       "      <td>600.0</td>\n",
       "      <td>166.0</td>\n",
       "      <td>100.0</td>\n",
       "      <td>90.0</td>\n",
       "      <td>72.0</td>\n",
       "      <td>97.0</td>\n",
       "      <td>0</td>\n",
       "      <td>2.0</td>\n",
       "    </tr>\n",
       "  </tbody>\n",
       "</table>\n",
       "</div>"
      ],
      "text/plain": [
       "   Buy Price  Mon AM  Mon PM  Tue AM  Tue PM  Wed AM  Wed PM  Thu AM  Thu PM  \\\n",
       "0        NaN   126.0    94.0   107.0    71.0    64.0   146.0   146.0    76.0   \n",
       "1        NaN   126.0    94.0   107.0    71.0    64.0    53.0    90.0    76.0   \n",
       "2        NaN   126.0    94.0   107.0    71.0    64.0    53.0   146.0    76.0   \n",
       "3        NaN   126.0    94.0   107.0    71.0    64.0    53.0   146.0    76.0   \n",
       "4      107.0    93.0    88.0    85.0    80.0   118.0   208.0   600.0   166.0   \n",
       "\n",
       "   Fri AM  Fri PM  Sat AM  Sat PM  Previous Pattern  Pattern  \n",
       "0    70.0    66.0   146.0   146.0                 2      0.0  \n",
       "1    70.0    90.0    90.0    90.0                 2      0.0  \n",
       "2    70.0    94.0   146.0   146.0                 2      0.0  \n",
       "3    70.0    94.0    94.0    94.0                 2      0.0  \n",
       "4   100.0    90.0    72.0    97.0                 0      2.0  "
      ]
     },
     "execution_count": 3,
     "metadata": {},
     "output_type": "execute_result"
    }
   ],
   "source": [
    "turnip_data.head()"
   ]
  },
  {
   "cell_type": "markdown",
   "metadata": {},
   "source": [
    "Pattern definition: \n",
    "    0: Fluctuating\n",
    "    1: Small Spike\n",
    "    2: Large Spike\n",
    "    3: Decreasing\n",
    "    4: Unknown"
   ]
  },
  {
   "cell_type": "code",
   "execution_count": 4,
   "metadata": {},
   "outputs": [
    {
     "name": "stdout",
     "output_type": "stream",
     "text": [
      "<class 'pandas.core.frame.DataFrame'>\n",
      "RangeIndex: 258 entries, 0 to 257\n",
      "Data columns (total 15 columns):\n",
      " #   Column            Non-Null Count  Dtype  \n",
      "---  ------            --------------  -----  \n",
      " 0   Buy Price         245 non-null    float64\n",
      " 1   Mon AM            249 non-null    float64\n",
      " 2   Mon PM            253 non-null    float64\n",
      " 3   Tue AM            247 non-null    float64\n",
      " 4   Tue PM            251 non-null    float64\n",
      " 5   Wed AM            245 non-null    float64\n",
      " 6   Wed PM            235 non-null    float64\n",
      " 7   Thu AM            229 non-null    float64\n",
      " 8   Thu PM            215 non-null    float64\n",
      " 9   Fri AM            186 non-null    float64\n",
      " 10  Fri PM            164 non-null    float64\n",
      " 11  Sat AM            143 non-null    float64\n",
      " 12  Sat PM            129 non-null    float64\n",
      " 13  Previous Pattern  258 non-null    int64  \n",
      " 14  Pattern           255 non-null    float64\n",
      "dtypes: float64(14), int64(1)\n",
      "memory usage: 30.4 KB\n"
     ]
    }
   ],
   "source": [
    "turnip_data.info()"
   ]
  },
  {
   "cell_type": "code",
   "execution_count": 5,
   "metadata": {},
   "outputs": [
    {
     "data": {
      "text/plain": [
       "Buy Price            13\n",
       "Mon AM                9\n",
       "Mon PM                5\n",
       "Tue AM               11\n",
       "Tue PM                7\n",
       "Wed AM               13\n",
       "Wed PM               23\n",
       "Thu AM               29\n",
       "Thu PM               43\n",
       "Fri AM               72\n",
       "Fri PM               94\n",
       "Sat AM              115\n",
       "Sat PM              129\n",
       "Previous Pattern      0\n",
       "Pattern               3\n",
       "dtype: int64"
      ]
     },
     "execution_count": 5,
     "metadata": {},
     "output_type": "execute_result"
    }
   ],
   "source": [
    "turnip_data.isnull().sum()"
   ]
  },
  {
   "cell_type": "markdown",
   "metadata": {},
   "source": [
    "We can see there are 3 rows with no label. Those are to be extracted from the dataset."
   ]
  },
  {
   "cell_type": "code",
   "execution_count": 6,
   "metadata": {},
   "outputs": [
    {
     "data": {
      "text/html": [
       "<div>\n",
       "<style scoped>\n",
       "    .dataframe tbody tr th:only-of-type {\n",
       "        vertical-align: middle;\n",
       "    }\n",
       "\n",
       "    .dataframe tbody tr th {\n",
       "        vertical-align: top;\n",
       "    }\n",
       "\n",
       "    .dataframe thead th {\n",
       "        text-align: right;\n",
       "    }\n",
       "</style>\n",
       "<table border=\"1\" class=\"dataframe\">\n",
       "  <thead>\n",
       "    <tr style=\"text-align: right;\">\n",
       "      <th></th>\n",
       "      <th>Buy Price</th>\n",
       "      <th>Mon AM</th>\n",
       "      <th>Mon PM</th>\n",
       "      <th>Tue AM</th>\n",
       "      <th>Tue PM</th>\n",
       "      <th>Wed AM</th>\n",
       "      <th>Wed PM</th>\n",
       "      <th>Thu AM</th>\n",
       "      <th>Thu PM</th>\n",
       "      <th>Fri AM</th>\n",
       "      <th>Fri PM</th>\n",
       "      <th>Sat AM</th>\n",
       "      <th>Sat PM</th>\n",
       "      <th>Previous Pattern</th>\n",
       "      <th>Pattern</th>\n",
       "    </tr>\n",
       "  </thead>\n",
       "  <tbody>\n",
       "    <tr>\n",
       "      <th>15</th>\n",
       "      <td>104.0</td>\n",
       "      <td>94.0</td>\n",
       "      <td>89.0</td>\n",
       "      <td>85.0</td>\n",
       "      <td>80.0</td>\n",
       "      <td>113.0</td>\n",
       "      <td>NaN</td>\n",
       "      <td>NaN</td>\n",
       "      <td>NaN</td>\n",
       "      <td>NaN</td>\n",
       "      <td>NaN</td>\n",
       "      <td>NaN</td>\n",
       "      <td>NaN</td>\n",
       "      <td>0</td>\n",
       "      <td>NaN</td>\n",
       "    </tr>\n",
       "    <tr>\n",
       "      <th>53</th>\n",
       "      <td>103.0</td>\n",
       "      <td>90.0</td>\n",
       "      <td>85.0</td>\n",
       "      <td>71.0</td>\n",
       "      <td>76.0</td>\n",
       "      <td>72.0</td>\n",
       "      <td>69.0</td>\n",
       "      <td>66.0</td>\n",
       "      <td>125.0</td>\n",
       "      <td>156.0</td>\n",
       "      <td>NaN</td>\n",
       "      <td>NaN</td>\n",
       "      <td>NaN</td>\n",
       "      <td>0</td>\n",
       "      <td>NaN</td>\n",
       "    </tr>\n",
       "    <tr>\n",
       "      <th>54</th>\n",
       "      <td>110.0</td>\n",
       "      <td>99.0</td>\n",
       "      <td>94.0</td>\n",
       "      <td>91.0</td>\n",
       "      <td>87.0</td>\n",
       "      <td>82.0</td>\n",
       "      <td>79.0</td>\n",
       "      <td>NaN</td>\n",
       "      <td>149.0</td>\n",
       "      <td>166.0</td>\n",
       "      <td>NaN</td>\n",
       "      <td>NaN</td>\n",
       "      <td>NaN</td>\n",
       "      <td>0</td>\n",
       "      <td>NaN</td>\n",
       "    </tr>\n",
       "  </tbody>\n",
       "</table>\n",
       "</div>"
      ],
      "text/plain": [
       "    Buy Price  Mon AM  Mon PM  Tue AM  Tue PM  Wed AM  Wed PM  Thu AM  Thu PM  \\\n",
       "15      104.0    94.0    89.0    85.0    80.0   113.0     NaN     NaN     NaN   \n",
       "53      103.0    90.0    85.0    71.0    76.0    72.0    69.0    66.0   125.0   \n",
       "54      110.0    99.0    94.0    91.0    87.0    82.0    79.0     NaN   149.0   \n",
       "\n",
       "    Fri AM  Fri PM  Sat AM  Sat PM  Previous Pattern  Pattern  \n",
       "15     NaN     NaN     NaN     NaN                 0      NaN  \n",
       "53   156.0     NaN     NaN     NaN                 0      NaN  \n",
       "54   166.0     NaN     NaN     NaN                 0      NaN  "
      ]
     },
     "execution_count": 6,
     "metadata": {},
     "output_type": "execute_result"
    }
   ],
   "source": [
    "nonLabeled = turnip_data[turnip_data['Pattern'].isnull()]\n",
    "nonLabeled.head()"
   ]
  },
  {
   "cell_type": "markdown",
   "metadata": {},
   "source": [
    "As the amount of feature data they contain is quite enough. Those are going to be saved for later testing"
   ]
  },
  {
   "cell_type": "code",
   "execution_count": 7,
   "metadata": {},
   "outputs": [
    {
     "data": {
      "text/plain": [
       "Buy Price            13\n",
       "Mon AM                9\n",
       "Mon PM                5\n",
       "Tue AM               11\n",
       "Tue PM                7\n",
       "Wed AM               13\n",
       "Wed PM               22\n",
       "Thu AM               27\n",
       "Thu PM               42\n",
       "Fri AM               71\n",
       "Fri PM               91\n",
       "Sat AM              112\n",
       "Sat PM              126\n",
       "Previous Pattern      0\n",
       "Pattern               0\n",
       "dtype: int64"
      ]
     },
     "execution_count": 7,
     "metadata": {},
     "output_type": "execute_result"
    }
   ],
   "source": [
    "df = turnip_data[turnip_data['Pattern'].notnull()]\n",
    "df.isnull().sum()"
   ]
  },
  {
   "cell_type": "markdown",
   "metadata": {},
   "source": [
    "Now the data is completely labeled"
   ]
  },
  {
   "cell_type": "code",
   "execution_count": 8,
   "metadata": {},
   "outputs": [],
   "source": [
    "pattern_classes = ['Fluctuating', 'Small Spike', 'Large Spike', 'Decreasing']\n",
    "pattern_label   = 'Pattern'\n",
    "pattern_feature = list(df.columns[df.columns != 'Pattern'])"
   ]
  },
  {
   "cell_type": "code",
   "execution_count": 9,
   "metadata": {
    "scrolled": false
   },
   "outputs": [
    {
     "data": {
      "text/plain": [
       "Buy Price           0\n",
       "Mon AM              0\n",
       "Mon PM              0\n",
       "Tue AM              0\n",
       "Tue PM              0\n",
       "Wed AM              0\n",
       "Wed PM              0\n",
       "Thu AM              0\n",
       "Thu PM              0\n",
       "Fri AM              0\n",
       "Fri PM              0\n",
       "Sat AM              0\n",
       "Sat PM              0\n",
       "Previous Pattern    0\n",
       "Pattern             0\n",
       "dtype: int64"
      ]
     },
     "execution_count": 9,
     "metadata": {},
     "output_type": "execute_result"
    }
   ],
   "source": [
    "df = df.fillna(0)\n",
    "df.isna().sum()"
   ]
  },
  {
   "cell_type": "markdown",
   "metadata": {},
   "source": [
    "### Preparing the data"
   ]
  },
  {
   "cell_type": "code",
   "execution_count": 50,
   "metadata": {},
   "outputs": [
    {
     "name": "stdout",
     "output_type": "stream",
     "text": [
      "Training Set: 178, Test Set: 77 \n",
      "\n"
     ]
    }
   ],
   "source": [
    "df_X, df_y = df[pattern_feature].values, df[pattern_label].values\n",
    "X_train, X_test, y_train, y_test = train_test_split(df_X, df_y,\n",
    "                                                   test_size=0.3,\n",
    "                                                   random_state=0,\n",
    "                                                   stratify=df_y)\n",
    "print ('Training Set: %d, Test Set: %d \\n' % (X_train.shape[0], X_test.shape[0]))"
   ]
  },
  {
   "cell_type": "code",
   "execution_count": null,
   "metadata": {},
   "outputs": [],
   "source": []
  },
  {
   "cell_type": "markdown",
   "metadata": {},
   "source": [
    "## Training the model\n",
    "\n",
    "### Support Vector Machine"
   ]
  },
  {
   "cell_type": "code",
   "execution_count": 11,
   "metadata": {},
   "outputs": [
    {
     "name": "stderr",
     "output_type": "stream",
     "text": [
      "C:\\Users\\cresp\\AppData\\Local\\Programs\\Python\\Python39\\lib\\site-packages\\sklearn\\svm\\_base.py:985: ConvergenceWarning: Liblinear failed to converge, increase the number of iterations.\n",
      "  warnings.warn(\"Liblinear failed to converge, increase \"\n"
     ]
    },
    {
     "data": {
      "text/plain": [
       "LinearSVC(max_iter=1000000, random_state=0, tol=1e-05)"
      ]
     },
     "execution_count": 11,
     "metadata": {},
     "output_type": "execute_result"
    }
   ],
   "source": [
    "from sklearn.svm import LinearSVC\n",
    "\n",
    "svc_Model = LinearSVC(random_state=0, tol=1e-5, max_iter=1000000)\n",
    "svc_Model.fit(X_train, y_train)"
   ]
  },
  {
   "cell_type": "code",
   "execution_count": 12,
   "metadata": {},
   "outputs": [
    {
     "name": "stdout",
     "output_type": "stream",
     "text": [
      "Predicted labels:  [0. 1. 1. 2. 0. 0. 0. 2. 2. 1. 0. 0. 3. 2. 1. 0. 0. 1. 2. 0. 2. 1. 0. 1.\n",
      " 2. 2. 1. 0. 0. 0. 1. 2. 0. 0. 1. 1. 0. 1. 0. 2. 1. 2. 2. 2. 0. 0. 2. 1.\n",
      " 0. 0. 0. 0. 0. 1. 2. 0. 0. 2. 1. 0. 2. 0. 0. 0. 0. 2. 0. 0. 1. 2. 1. 0.\n",
      " 2. 0. 1. 0. 2.]\n",
      "Actual labels:     [0. 2. 1. 2. 0. 2. 0. 0. 2. 3. 0. 0. 3. 2. 2. 0. 0. 1. 2. 1. 1. 1. 1. 2.\n",
      " 0. 2. 3. 3. 0. 0. 1. 1. 0. 1. 1. 2. 1. 1. 0. 1. 2. 1. 2. 2. 0. 0. 2. 2.\n",
      " 0. 1. 0. 3. 0. 3. 2. 0. 3. 1. 1. 3. 2. 0. 0. 0. 1. 2. 0. 3. 1. 2. 1. 0.\n",
      " 2. 3. 1. 0. 2.]\n",
      "Accuracy:  0.6233766233766234\n",
      "              precision    recall  f1-score   support\n",
      "\n",
      "         0.0       0.64      0.92      0.75        25\n",
      "         1.0       0.53      0.48      0.50        21\n",
      "         2.0       0.67      0.67      0.67        21\n",
      "         3.0       1.00      0.10      0.18        10\n",
      "\n",
      "    accuracy                           0.62        77\n",
      "   macro avg       0.71      0.54      0.53        77\n",
      "weighted avg       0.66      0.62      0.59        77\n",
      "\n",
      "Overall Precision: 0.7079678362573099\n",
      "Overall Recall: 0.5407142857142857\n"
     ]
    }
   ],
   "source": [
    "predictions = svc_Model.predict(X_test)\n",
    "print('Predicted labels: ', predictions)\n",
    "print('Actual labels:    ' ,y_test)\n",
    "\n",
    "from sklearn.metrics import precision_score, recall_score\n",
    "from sklearn. metrics import classification_report\n",
    "from sklearn.metrics import accuracy_score\n",
    "\n",
    "print('Accuracy: ', accuracy_score(y_test, predictions))\n",
    "\n",
    "print(classification_report(y_test, predictions))\n",
    "print(\"Overall Precision:\",precision_score(y_test, predictions, average='macro'))\n",
    "print(\"Overall Recall:\",recall_score(y_test, predictions, average='macro'))"
   ]
  },
  {
   "cell_type": "code",
   "execution_count": 13,
   "metadata": {},
   "outputs": [
    {
     "data": {
      "image/png": "[encoded data removed]",
      "text/plain": [
       "<Figure size 432x288 with 2 Axes>"
      ]
     },
     "metadata": {
      "needs_background": "light"
     },
     "output_type": "display_data"
    }
   ],
   "source": [
    "from sklearn.metrics import confusion_matrix\n",
    "\n",
    "# Print the confusion matrix\n",
    "mcm = confusion_matrix(y_test, predictions)\n",
    "plt.imshow(mcm, interpolation=\"nearest\", cmap=plt.cm.Blues)\n",
    "plt.colorbar()\n",
    "tick_marks = np.arange(len(pattern_classes))\n",
    "plt.xticks(tick_marks, pattern_classes, rotation=45)\n",
    "plt.yticks(tick_marks, pattern_classes)\n",
    "plt.xlabel(\"Predicted Pattern\")\n",
    "plt.ylabel(\"Actual Pattern\")\n",
    "plt.show()"
   ]
  },
  {
   "cell_type": "markdown",
   "metadata": {},
   "source": [
    "## Nearest Neighbors"
   ]
  },
  {
   "cell_type": "code",
   "execution_count": 14,
   "metadata": {},
   "outputs": [
    {
     "data": {
      "text/plain": [
       "KNeighborsClassifier(n_neighbors=4)"
      ]
     },
     "execution_count": 14,
     "metadata": {},
     "output_type": "execute_result"
    }
   ],
   "source": [
    "from sklearn.neighbors import KNeighborsClassifier\n",
    "neigh = KNeighborsClassifier(n_neighbors=4)\n",
    "neigh.fit(X_train, y_train)"
   ]
  },
  {
   "cell_type": "code",
   "execution_count": 15,
   "metadata": {},
   "outputs": [
    {
     "name": "stdout",
     "output_type": "stream",
     "text": [
      "Predicted labels:  [0. 1. 1. 2. 0. 0. 0. 2. 2. 1. 0. 0. 3. 2. 1. 0. 0. 1. 2. 0. 2. 1. 0. 1.\n",
      " 2. 2. 1. 0. 0. 0. 1. 2. 0. 0. 1. 1. 0. 1. 0. 2. 1. 2. 2. 2. 0. 0. 2. 1.\n",
      " 0. 0. 0. 0. 0. 1. 2. 0. 0. 2. 1. 0. 2. 0. 0. 0. 0. 2. 0. 0. 1. 2. 1. 0.\n",
      " 2. 0. 1. 0. 2.]\n",
      "Actual labels:     [0. 2. 1. 2. 0. 2. 0. 0. 2. 3. 0. 0. 3. 2. 2. 0. 0. 1. 2. 1. 1. 1. 1. 2.\n",
      " 0. 2. 3. 3. 0. 0. 1. 1. 0. 1. 1. 2. 1. 1. 0. 1. 2. 1. 2. 2. 0. 0. 2. 2.\n",
      " 0. 1. 0. 3. 0. 3. 2. 0. 3. 1. 1. 3. 2. 0. 0. 0. 1. 2. 0. 3. 1. 2. 1. 0.\n",
      " 2. 3. 1. 0. 2.]\n",
      "Accuracy:  0.7402597402597403\n",
      "              precision    recall  f1-score   support\n",
      "\n",
      "         0.0       0.78      0.72      0.75        25\n",
      "         1.0       0.62      0.76      0.68        21\n",
      "         2.0       1.00      0.62      0.76        21\n",
      "         3.0       0.67      1.00      0.80        10\n",
      "\n",
      "    accuracy                           0.74        77\n",
      "   macro avg       0.77      0.78      0.75        77\n",
      "weighted avg       0.78      0.74      0.74        77\n",
      "\n",
      "Overall Precision: 0.7661649944258639\n",
      "Overall Recall: 0.7752380952380953\n"
     ]
    }
   ],
   "source": [
    "neigh_pred = neigh.predict(X_test)\n",
    "print('Predicted labels: ', predictions)\n",
    "print('Actual labels:    ' ,y_test)\n",
    "\n",
    "print('Accuracy: ', accuracy_score(y_test, neigh_pred))\n",
    "\n",
    "print(classification_report(y_test, neigh_pred))\n",
    "print(\"Overall Precision:\",precision_score(y_test, neigh_pred, average='macro'))\n",
    "print(\"Overall Recall:\",recall_score(y_test, neigh_pred, average='macro'))"
   ]
  },
  {
   "cell_type": "code",
   "execution_count": 16,
   "metadata": {},
   "outputs": [
    {
     "data": {
      "image/png": "[encoded data removed]",
      "text/plain": [
       "<Figure size 432x288 with 2 Axes>"
      ]
     },
     "metadata": {
      "needs_background": "light"
     },
     "output_type": "display_data"
    }
   ],
   "source": [
    "# Print the confusion matrix\n",
    "mcm = confusion_matrix(y_test, neigh_pred)\n",
    "plt.imshow(mcm, interpolation=\"nearest\", cmap=plt.cm.Blues)\n",
    "plt.colorbar()\n",
    "tick_marks = np.arange(len(pattern_classes))\n",
    "plt.xticks(tick_marks, pattern_classes, rotation=45)\n",
    "plt.yticks(tick_marks, pattern_classes)\n",
    "plt.xlabel(\"Predicted Pattern\")\n",
    "plt.ylabel(\"Actual Pattern\")\n",
    "plt.show()"
   ]
  },
  {
   "cell_type": "code",
   "execution_count": 26,
   "metadata": {},
   "outputs": [
    {
     "name": "stdout",
     "output_type": "stream",
     "text": [
      "Predicted labels:  [0. 1. 1. 2. 0. 0. 0. 2. 2. 1. 0. 0. 3. 2. 1. 0. 0. 1. 2. 0. 2. 1. 0. 1.\n",
      " 2. 2. 1. 0. 0. 0. 1. 2. 0. 0. 1. 1. 0. 1. 0. 2. 1. 2. 2. 2. 0. 0. 2. 1.\n",
      " 0. 0. 0. 0. 0. 1. 2. 0. 0. 2. 1. 0. 2. 0. 0. 0. 0. 2. 0. 0. 1. 2. 1. 0.\n",
      " 2. 0. 1. 0. 2.]\n",
      "Actual labels:     [0. 2. 1. 2. 0. 2. 0. 0. 2. 3. 0. 0. 3. 2. 2. 0. 0. 1. 2. 1. 1. 1. 1. 2.\n",
      " 0. 2. 3. 3. 0. 0. 1. 1. 0. 1. 1. 2. 1. 1. 0. 1. 2. 1. 2. 2. 0. 0. 2. 2.\n",
      " 0. 1. 0. 3. 0. 3. 2. 0. 3. 1. 1. 3. 2. 0. 0. 0. 1. 2. 0. 3. 1. 2. 1. 0.\n",
      " 2. 3. 1. 0. 2.]\n",
      "Accuracy:  0.7532467532467533\n",
      "              precision    recall  f1-score   support\n",
      "\n",
      "         0.0       0.84      0.64      0.73        25\n",
      "         1.0       0.64      0.86      0.73        21\n",
      "         2.0       1.00      0.67      0.80        21\n",
      "         3.0       0.62      1.00      0.77        10\n",
      "\n",
      "    accuracy                           0.75        77\n",
      "   macro avg       0.78      0.79      0.76        77\n",
      "weighted avg       0.80      0.75      0.75        77\n",
      "\n",
      "Overall Precision: 0.7774906015037594\n",
      "Overall Recall: 0.790952380952381\n"
     ]
    },
    {
     "data": {
      "image/png": "[encoded data removed]",
      "text/plain": [
       "<Figure size 432x288 with 2 Axes>"
      ]
     },
     "metadata": {
      "needs_background": "light"
     },
     "output_type": "display_data"
    }
   ],
   "source": [
    "neigh5 = KNeighborsClassifier(n_neighbors=5)\n",
    "neigh5.fit(X_train, y_train)\n",
    "neigh5_pred = neigh5.predict(X_test)\n",
    "print('Predicted labels: ', predictions)\n",
    "print('Actual labels:    ' ,y_test)\n",
    "\n",
    "print('Accuracy: ', accuracy_score(y_test, neigh5_pred))\n",
    "\n",
    "print(classification_report(y_test, neigh5_pred))\n",
    "print(\"Overall Precision:\",precision_score(y_test, neigh5_pred, average='macro'))\n",
    "print(\"Overall Recall:\",recall_score(y_test, neigh5_pred, average='macro'))\n",
    "mcm = confusion_matrix(y_test, neigh5_pred)\n",
    "plt.imshow(mcm, interpolation=\"nearest\", cmap=plt.cm.Blues)\n",
    "plt.colorbar()\n",
    "tick_marks = np.arange(len(pattern_classes))\n",
    "plt.xticks(tick_marks, pattern_classes, rotation=45)\n",
    "plt.yticks(tick_marks, pattern_classes)\n",
    "plt.xlabel(\"Predicted Pattern\")\n",
    "plt.ylabel(\"Actual Pattern\")\n",
    "plt.show()"
   ]
  },
  {
   "cell_type": "markdown",
   "metadata": {},
   "source": [
    "## Random Forest Classifier"
   ]
  },
  {
   "cell_type": "code",
   "execution_count": 31,
   "metadata": {},
   "outputs": [
    {
     "data": {
      "text/plain": [
       "RandomForestClassifier()"
      ]
     },
     "execution_count": 31,
     "metadata": {},
     "output_type": "execute_result"
    }
   ],
   "source": [
    "from sklearn.ensemble import RandomForestClassifier\n",
    "\n",
    "forestClass = RandomForestClassifier(n_estimators=100)\n",
    "forestClass.fit(X_train, y_train)"
   ]
  },
  {
   "cell_type": "code",
   "execution_count": 32,
   "metadata": {},
   "outputs": [
    {
     "name": "stdout",
     "output_type": "stream",
     "text": [
      "Predicted labels:  [0. 1. 1. 2. 0. 0. 0. 2. 2. 1. 0. 0. 3. 2. 1. 0. 0. 1. 2. 0. 2. 1. 0. 1.\n",
      " 2. 2. 1. 0. 0. 0. 1. 2. 0. 0. 1. 1. 0. 1. 0. 2. 1. 2. 2. 2. 0. 0. 2. 1.\n",
      " 0. 0. 0. 0. 0. 1. 2. 0. 0. 2. 1. 0. 2. 0. 0. 0. 0. 2. 0. 0. 1. 2. 1. 0.\n",
      " 2. 0. 1. 0. 2.]\n",
      "Actual labels:     [0. 2. 1. 2. 0. 2. 0. 0. 2. 3. 0. 0. 3. 2. 2. 0. 0. 1. 2. 1. 1. 1. 1. 2.\n",
      " 0. 2. 3. 3. 0. 0. 1. 1. 0. 1. 1. 2. 1. 1. 0. 1. 2. 1. 2. 2. 0. 0. 2. 2.\n",
      " 0. 1. 0. 3. 0. 3. 2. 0. 3. 1. 1. 3. 2. 0. 0. 0. 1. 2. 0. 3. 1. 2. 1. 0.\n",
      " 2. 3. 1. 0. 2.]\n",
      "Accuracy:  0.8701298701298701\n",
      "              precision    recall  f1-score   support\n",
      "\n",
      "         0.0       0.92      0.88      0.90        25\n",
      "         1.0       0.83      0.71      0.77        21\n",
      "         2.0       0.83      0.95      0.89        21\n",
      "         3.0       0.91      1.00      0.95        10\n",
      "\n",
      "    accuracy                           0.87        77\n",
      "   macro avg       0.87      0.89      0.88        77\n",
      "weighted avg       0.87      0.87      0.87        77\n",
      "\n",
      "Overall Precision: 0.8731060606060607\n",
      "Overall Recall: 0.8866666666666667\n"
     ]
    }
   ],
   "source": [
    "forest_pred = forestClass.predict(X_test)\n",
    "print('Predicted labels: ', predictions)\n",
    "print('Actual labels:    ' ,y_test)\n",
    "\n",
    "print('Accuracy: ', accuracy_score(y_test, forest_pred))\n",
    "\n",
    "print(classification_report(y_test, forest_pred))\n",
    "print(\"Overall Precision:\",precision_score(y_test, forest_pred, average='macro'))\n",
    "print(\"Overall Recall:\",recall_score(y_test, forest_pred, average='macro'))"
   ]
  },
  {
   "cell_type": "code",
   "execution_count": 33,
   "metadata": {},
   "outputs": [
    {
     "data": {
      "image/png": "[encoded data removed]",
      "text/plain": [
       "<Figure size 432x288 with 2 Axes>"
      ]
     },
     "metadata": {
      "needs_background": "light"
     },
     "output_type": "display_data"
    }
   ],
   "source": [
    "# Print the confusion matrix\n",
    "mcm = confusion_matrix(y_test, forest_pred)\n",
    "plt.imshow(mcm, interpolation=\"nearest\", cmap=plt.cm.Blues)\n",
    "plt.colorbar()\n",
    "tick_marks = np.arange(len(pattern_classes))\n",
    "plt.xticks(tick_marks, pattern_classes, rotation=45)\n",
    "plt.yticks(tick_marks, pattern_classes)\n",
    "plt.xlabel(\"Predicted Pattern\")\n",
    "plt.ylabel(\"Actual Pattern\")\n",
    "plt.show()"
   ]
  },
  {
   "cell_type": "markdown",
   "metadata": {},
   "source": [
    "Save the models"
   ]
  },
  {
   "cell_type": "code",
   "execution_count": 20,
   "metadata": {},
   "outputs": [],
   "source": [
    "import joblib\n",
    "\n",
    "# Save the model as a pickle file\n",
    "filename = './models/forest_model.pkl'\n",
    "#joblib.dump(forestClass, filename)\n",
    "\n",
    "filename = './models/Kneigh_model.pkl'\n",
    "#joblib.dump(neigh, filename)"
   ]
  },
  {
   "cell_type": "code",
   "execution_count": 21,
   "metadata": {},
   "outputs": [
    {
     "data": {
      "text/plain": [
       "array([[0.67, 0.18, 0.15, 0.  ]])"
      ]
     },
     "execution_count": 21,
     "metadata": {},
     "output_type": "execute_result"
    }
   ],
   "source": [
    "forestClass.predict_proba(X_test[0:1])"
   ]
  },
  {
   "cell_type": "markdown",
   "metadata": {},
   "source": [
    "# PYTORCH CLASSIFICATION USING DEEP LEARNING"
   ]
  },
  {
   "cell_type": "code",
   "execution_count": 62,
   "metadata": {},
   "outputs": [],
   "source": [
    "import torch\n",
    "import torch.nn as nn\n",
    "import torchvision\n",
    "import torchvision.transforms as transforms\n",
    "import torch.nn.functional as F\n",
    "import torch.optim as optim"
   ]
  },
  {
   "cell_type": "code",
   "execution_count": 51,
   "metadata": {},
   "outputs": [],
   "source": [
    "Xtrain = torch.from_numpy(X_train).float()\n",
    "Xtest = torch.from_numpy(X_test).float()"
   ]
  },
  {
   "cell_type": "code",
   "execution_count": 52,
   "metadata": {},
   "outputs": [],
   "source": [
    "Ytrain = torch.from_numpy(y_train).view(1, -1)[0].long()\n",
    "Ytest = torch.from_numpy(y_test).view(1, -1)[0].long()"
   ]
  },
  {
   "cell_type": "code",
   "execution_count": 58,
   "metadata": {},
   "outputs": [],
   "source": [
    "input_size = Xtrain.shape[1]\n",
    "output_size = len(df[pattern_label].unique())"
   ]
  },
  {
   "cell_type": "code",
   "execution_count": 61,
   "metadata": {},
   "outputs": [],
   "source": [
    "class ClassificationNet(nn.Module):\n",
    "    def __init__(self, hidden_size, activation_fn='relu', apply_dropout=False):\n",
    "        super(ClassificationNet, self).__init__()\n",
    "\n",
    "        self.fc1 = nn.Linear(input_size, hidden_size)\n",
    "        self.fc2 = nn.Linear(hidden_size, hidden_size)\n",
    "        self.fc3 = nn.Linear(hidden_size, output_size)\n",
    "\n",
    "        self.hidden_size = hidden_size\n",
    "        self.activation_fn = activation_fn\n",
    "\n",
    "        self.dropout = None\n",
    "        if apply_dropout:\n",
    "            self.dropout = nn.Dropout(0.2)\n",
    "\n",
    "    def forward(self, x):\n",
    "        activation_fn = None\n",
    "        if self.activation_fn == 'sigmoid':\n",
    "            activation_fn = F.torch.sigmoid\n",
    "        elif self.activation_fn == 'tanh':\n",
    "            activation_fn = F.torch.tanh\n",
    "        elif self.activation_fn == 'relu':\n",
    "            activation_fn = F.torch.relu\n",
    "        \n",
    "        x = activation_fn(self.fc1(x))\n",
    "        x = activation_fn(self.fc2(x))\n",
    "\n",
    "        if self.dropout != None:\n",
    "            x = self.dropout(x)\n",
    "        \n",
    "        x = self.fc3(x)\n",
    "        return F.log_softmax(x, dim = -1)\n",
    "        "
   ]
  },
  {
   "cell_type": "code",
   "execution_count": 94,
   "metadata": {},
   "outputs": [],
   "source": [
    "def train_and_evaluate_model(model, learn_rate=0.001):\n",
    "    epoch_data = []\n",
    "    epochs = 1001\n",
    "\n",
    "    optimizer = optim.Adam(model.parameters(), lr=learn_rate)\n",
    "\n",
    "    loss_fn = nn.NLLLoss()\n",
    "\n",
    "    test_accuracy = 0.0\n",
    "\n",
    "    for epoch in range(1, epochs):\n",
    "\n",
    "        optimizer.zero_grad()\n",
    "\n",
    "        model.train()\n",
    "\n",
    "        Ypred = model(Xtrain)\n",
    "\n",
    "        loss = loss_fn(Ypred, Ytrain)\n",
    "        loss.backward()\n",
    "\n",
    "        optimizer.step()\n",
    "\n",
    "        model.eval()\n",
    "\n",
    "        Ypred_test = model(Xtest)\n",
    "        loss_test = loss_fn(Ypred_test, Ytest)\n",
    "\n",
    "        _, pred = Ypred_test.data.max(1)\n",
    "\n",
    "        test_accuracy = pred.eq(Ytest.data).sum().item() / y_test.size\n",
    "\n",
    "        epoch_data.append([epoch, loss.data.item(), loss_test.data.item(), test_accuracy])\n",
    "\n",
    "        if epoch % 100 == 0:\n",
    "            print('epoch -%d (%d%%) train loss - %.2f test loss - %.2f Test accuracy - %.4f'\\\n",
    "                % (epoch, epoch/150 * 10, loss.data.item(),\n",
    "                loss_test.data.item(), test_accuracy))\n",
    "\n",
    "    return {'model':model, 'epoch_data': epoch_data, 'num_epochs':epochs, 'optimizer': optimizer,\n",
    "            'loss_fn':loss_fn, 'test_accuracy':test_accuracy, '_,pred': Ypred_test.data.max(1),'actual_test_label':Ytest}"
   ]
  },
  {
   "cell_type": "code",
   "execution_count": 74,
   "metadata": {},
   "outputs": [
    {
     "data": {
      "text/plain": [
       "ClassificationNet(\n",
       "  (fc1): Linear(in_features=14, out_features=3, bias=True)\n",
       "  (fc2): Linear(in_features=3, out_features=3, bias=True)\n",
       "  (fc3): Linear(in_features=3, out_features=4, bias=True)\n",
       ")"
      ]
     },
     "execution_count": 74,
     "metadata": {},
     "output_type": "execute_result"
    }
   ],
   "source": [
    "net = ClassificationNet(hidden_size=3, activation_fn='sigmoid', apply_dropout=False)\n",
    "net"
   ]
  },
  {
   "cell_type": "code",
   "execution_count": 75,
   "metadata": {},
   "outputs": [
    {
     "name": "stdout",
     "output_type": "stream",
     "text": [
      "epoch -1000 (66%) train loss - 1.16 test loss - 1.25 Test accuracy - 0.4805\n",
      "epoch -2000 (133%) train loss - 1.07 test loss - 1.17 Test accuracy - 0.4805\n",
      "epoch -3000 (200%) train loss - 1.05 test loss - 1.17 Test accuracy - 0.4805\n",
      "epoch -4000 (266%) train loss - 1.03 test loss - 1.20 Test accuracy - 0.4675\n",
      "epoch -5000 (333%) train loss - 1.01 test loss - 1.23 Test accuracy - 0.4286\n",
      "epoch -6000 (400%) train loss - 1.00 test loss - 1.22 Test accuracy - 0.4416\n",
      "epoch -7000 (466%) train loss - 0.93 test loss - 1.22 Test accuracy - 0.4675\n",
      "epoch -8000 (533%) train loss - 0.92 test loss - 1.56 Test accuracy - 0.4805\n",
      "epoch -9000 (600%) train loss - 0.91 test loss - 1.60 Test accuracy - 0.4805\n",
      "epoch -10000 (666%) train loss - 0.90 test loss - 1.67 Test accuracy - 0.4675\n"
     ]
    }
   ],
   "source": [
    "result_3_sigmoid = train_and_evaluate_model(net)"
   ]
  },
  {
   "cell_type": "code",
   "execution_count": 76,
   "metadata": {},
   "outputs": [
    {
     "data": {
      "text/plain": [
       "ClassificationNet(\n",
       "  (fc1): Linear(in_features=14, out_features=3, bias=True)\n",
       "  (fc2): Linear(in_features=3, out_features=3, bias=True)\n",
       "  (fc3): Linear(in_features=3, out_features=4, bias=True)\n",
       "  (dropout): Dropout(p=0.2, inplace=False)\n",
       ")"
      ]
     },
     "execution_count": 76,
     "metadata": {},
     "output_type": "execute_result"
    }
   ],
   "source": [
    "net = ClassificationNet(hidden_size=3, activation_fn='sigmoid', apply_dropout=True)\n",
    "net"
   ]
  },
  {
   "cell_type": "code",
   "execution_count": 77,
   "metadata": {},
   "outputs": [
    {
     "name": "stdout",
     "output_type": "stream",
     "text": [
      "epoch -1000 (66%) train loss - 1.25 test loss - 1.26 Test accuracy - 0.3636\n",
      "epoch -2000 (133%) train loss - 1.10 test loss - 1.15 Test accuracy - 0.4026\n",
      "epoch -3000 (200%) train loss - 1.02 test loss - 1.13 Test accuracy - 0.4156\n",
      "epoch -4000 (266%) train loss - 0.99 test loss - 1.11 Test accuracy - 0.4156\n",
      "epoch -5000 (333%) train loss - 0.98 test loss - 1.10 Test accuracy - 0.4156\n",
      "epoch -6000 (400%) train loss - 0.95 test loss - 1.08 Test accuracy - 0.3896\n",
      "epoch -7000 (466%) train loss - 0.99 test loss - 1.08 Test accuracy - 0.4286\n",
      "epoch -8000 (533%) train loss - 1.03 test loss - 1.07 Test accuracy - 0.4935\n",
      "epoch -9000 (600%) train loss - 0.95 test loss - 1.06 Test accuracy - 0.4935\n",
      "epoch -10000 (666%) train loss - 0.96 test loss - 1.07 Test accuracy - 0.4805\n"
     ]
    }
   ],
   "source": [
    "result_3_sigmoid = train_and_evaluate_model(net)"
   ]
  },
  {
   "cell_type": "code",
   "execution_count": 78,
   "metadata": {},
   "outputs": [
    {
     "data": {
      "text/plain": [
       "ClassificationNet(\n",
       "  (fc1): Linear(in_features=14, out_features=50, bias=True)\n",
       "  (fc2): Linear(in_features=50, out_features=50, bias=True)\n",
       "  (fc3): Linear(in_features=50, out_features=4, bias=True)\n",
       ")"
      ]
     },
     "execution_count": 78,
     "metadata": {},
     "output_type": "execute_result"
    }
   ],
   "source": [
    "net = ClassificationNet(hidden_size=50, activation_fn='tanh')\n",
    "net"
   ]
  },
  {
   "cell_type": "code",
   "execution_count": 79,
   "metadata": {},
   "outputs": [
    {
     "name": "stdout",
     "output_type": "stream",
     "text": [
      "epoch -1000 (66%) train loss - 0.00 test loss - 1.88 Test accuracy - 0.7143\n",
      "epoch -2000 (133%) train loss - 0.00 test loss - 2.28 Test accuracy - 0.7273\n",
      "epoch -3000 (200%) train loss - 0.00 test loss - 2.48 Test accuracy - 0.7273\n",
      "epoch -4000 (266%) train loss - 0.00 test loss - 2.65 Test accuracy - 0.7273\n",
      "epoch -5000 (333%) train loss - 0.00 test loss - 2.80 Test accuracy - 0.7403\n",
      "epoch -6000 (400%) train loss - 0.00 test loss - 2.82 Test accuracy - 0.7273\n",
      "epoch -7000 (466%) train loss - 0.00 test loss - 2.92 Test accuracy - 0.7273\n",
      "epoch -8000 (533%) train loss - 0.00 test loss - 3.02 Test accuracy - 0.7273\n",
      "epoch -9000 (600%) train loss - 0.00 test loss - 3.11 Test accuracy - 0.7273\n",
      "epoch -10000 (666%) train loss - 0.00 test loss - 3.16 Test accuracy - 0.7273\n"
     ]
    }
   ],
   "source": [
    "result_50_tanh = train_and_evaluate_model(net)"
   ]
  },
  {
   "cell_type": "code",
   "execution_count": 80,
   "metadata": {},
   "outputs": [
    {
     "data": {
      "text/plain": [
       "ClassificationNet(\n",
       "  (fc1): Linear(in_features=14, out_features=1000, bias=True)\n",
       "  (fc2): Linear(in_features=1000, out_features=1000, bias=True)\n",
       "  (fc3): Linear(in_features=1000, out_features=4, bias=True)\n",
       ")"
      ]
     },
     "execution_count": 80,
     "metadata": {},
     "output_type": "execute_result"
    }
   ],
   "source": [
    "net = ClassificationNet(hidden_size=1000, activation_fn='tanh')\n",
    "net"
   ]
  },
  {
   "cell_type": "code",
   "execution_count": 81,
   "metadata": {},
   "outputs": [
    {
     "name": "stdout",
     "output_type": "stream",
     "text": [
      "epoch -1000 (66%) train loss - 0.00 test loss - 0.87 Test accuracy - 0.8182\n",
      "epoch -2000 (133%) train loss - 0.00 test loss - 0.94 Test accuracy - 0.8182\n",
      "epoch -3000 (200%) train loss - 0.00 test loss - 0.99 Test accuracy - 0.8182\n",
      "epoch -4000 (266%) train loss - 0.00 test loss - 1.04 Test accuracy - 0.8182\n",
      "epoch -5000 (333%) train loss - 0.00 test loss - 1.08 Test accuracy - 0.8182\n",
      "epoch -6000 (400%) train loss - 0.00 test loss - 1.12 Test accuracy - 0.8182\n",
      "epoch -7000 (466%) train loss - 0.00 test loss - 1.16 Test accuracy - 0.8182\n",
      "epoch -8000 (533%) train loss - 0.00 test loss - 1.20 Test accuracy - 0.8182\n",
      "epoch -9000 (600%) train loss - 0.00 test loss - 1.24 Test accuracy - 0.8182\n",
      "epoch -10000 (666%) train loss - 0.00 test loss - 1.28 Test accuracy - 0.8182\n"
     ]
    }
   ],
   "source": [
    "result_1000_tanh = train_and_evaluate_model(net)"
   ]
  },
  {
   "cell_type": "code",
   "execution_count": 82,
   "metadata": {},
   "outputs": [
    {
     "data": {
      "text/plain": [
       "ClassificationNet(\n",
       "  (fc1): Linear(in_features=14, out_features=1000, bias=True)\n",
       "  (fc2): Linear(in_features=1000, out_features=1000, bias=True)\n",
       "  (fc3): Linear(in_features=1000, out_features=4, bias=True)\n",
       "  (dropout): Dropout(p=0.2, inplace=False)\n",
       ")"
      ]
     },
     "execution_count": 82,
     "metadata": {},
     "output_type": "execute_result"
    }
   ],
   "source": [
    "net = ClassificationNet(hidden_size=1000, activation_fn='tanh', apply_dropout=True)\n",
    "net"
   ]
  },
  {
   "cell_type": "code",
   "execution_count": 83,
   "metadata": {},
   "outputs": [
    {
     "name": "stdout",
     "output_type": "stream",
     "text": [
      "epoch -1000 (66%) train loss - 0.00 test loss - 0.85 Test accuracy - 0.8312\n",
      "epoch -2000 (133%) train loss - 0.00 test loss - 0.94 Test accuracy - 0.8312\n",
      "epoch -3000 (200%) train loss - 0.00 test loss - 0.99 Test accuracy - 0.8312\n",
      "epoch -4000 (266%) train loss - 0.00 test loss - 1.04 Test accuracy - 0.8312\n",
      "epoch -5000 (333%) train loss - 0.00 test loss - 1.08 Test accuracy - 0.8182\n",
      "epoch -6000 (400%) train loss - 0.00 test loss - 1.12 Test accuracy - 0.8182\n",
      "epoch -7000 (466%) train loss - 0.00 test loss - 1.15 Test accuracy - 0.8182\n",
      "epoch -8000 (533%) train loss - 0.00 test loss - 1.18 Test accuracy - 0.8182\n",
      "epoch -9000 (600%) train loss - 0.00 test loss - 1.21 Test accuracy - 0.8182\n",
      "epoch -10000 (666%) train loss - 0.00 test loss - 1.24 Test accuracy - 0.8182\n"
     ]
    }
   ],
   "source": [
    "result_1000_tanh = train_and_evaluate_model(net)"
   ]
  },
  {
   "cell_type": "code",
   "execution_count": 84,
   "metadata": {},
   "outputs": [
    {
     "data": {
      "text/plain": [
       "ClassificationNet(\n",
       "  (fc1): Linear(in_features=14, out_features=100, bias=True)\n",
       "  (fc2): Linear(in_features=100, out_features=100, bias=True)\n",
       "  (fc3): Linear(in_features=100, out_features=4, bias=True)\n",
       "  (dropout): Dropout(p=0.2, inplace=False)\n",
       ")"
      ]
     },
     "execution_count": 84,
     "metadata": {},
     "output_type": "execute_result"
    }
   ],
   "source": [
    "net = ClassificationNet(hidden_size=100, activation_fn='sigmoid', apply_dropout=True)\n",
    "net"
   ]
  },
  {
   "cell_type": "code",
   "execution_count": 85,
   "metadata": {},
   "outputs": [
    {
     "name": "stdout",
     "output_type": "stream",
     "text": [
      "epoch -1000 (66%) train loss - 0.00 test loss - 0.81 Test accuracy - 0.8182\n",
      "epoch -2000 (133%) train loss - 0.00 test loss - 0.93 Test accuracy - 0.8312\n",
      "epoch -3000 (200%) train loss - 0.00 test loss - 1.05 Test accuracy - 0.8182\n",
      "epoch -4000 (266%) train loss - 0.00 test loss - 1.15 Test accuracy - 0.8182\n",
      "epoch -5000 (333%) train loss - 0.00 test loss - 1.23 Test accuracy - 0.8052\n",
      "epoch -6000 (400%) train loss - 0.00 test loss - 1.31 Test accuracy - 0.8052\n",
      "epoch -7000 (466%) train loss - 0.00 test loss - 1.38 Test accuracy - 0.8182\n",
      "epoch -8000 (533%) train loss - 0.00 test loss - 1.44 Test accuracy - 0.8052\n",
      "epoch -9000 (600%) train loss - 0.00 test loss - 1.52 Test accuracy - 0.8052\n",
      "epoch -10000 (666%) train loss - 0.00 test loss - 1.56 Test accuracy - 0.7922\n"
     ]
    }
   ],
   "source": [
    "result_100_sigmoid = train_and_evaluate_model(net)"
   ]
  },
  {
   "cell_type": "code",
   "execution_count": 95,
   "metadata": {},
   "outputs": [
    {
     "name": "stdout",
     "output_type": "stream",
     "text": [
      "epoch -100 (6%) train loss - 0.15 test loss - 0.63 Test accuracy - 0.7662\n",
      "epoch -200 (13%) train loss - 0.08 test loss - 0.72 Test accuracy - 0.8052\n",
      "epoch -300 (20%) train loss - 0.03 test loss - 0.75 Test accuracy - 0.8052\n",
      "epoch -400 (26%) train loss - 0.01 test loss - 0.80 Test accuracy - 0.8571\n",
      "epoch -500 (33%) train loss - 0.01 test loss - 0.81 Test accuracy - 0.8442\n",
      "epoch -600 (40%) train loss - 0.01 test loss - 0.90 Test accuracy - 0.8442\n",
      "epoch -700 (46%) train loss - 0.01 test loss - 0.90 Test accuracy - 0.8701\n",
      "epoch -800 (53%) train loss - 0.01 test loss - 0.97 Test accuracy - 0.8831\n",
      "epoch -900 (60%) train loss - 0.00 test loss - 0.99 Test accuracy - 0.8442\n",
      "epoch -1000 (66%) train loss - 0.00 test loss - 0.96 Test accuracy - 0.8701\n"
     ]
    }
   ],
   "source": [
    "net = ClassificationNet(hidden_size=100, activation_fn='relu', apply_dropout=True)\n",
    "net\n",
    "result_100_relu = train_and_evaluate_model(net)"
   ]
  },
  {
   "cell_type": "code",
   "execution_count": 96,
   "metadata": {},
   "outputs": [],
   "source": [
    "result_model = result_100_relu\n",
    "df_epochs_data = pd.DataFrame(result_model['epoch_data'],\n",
    "                            columns=[\"epoch\", \"train_loss\", \"test_loss\", \"accuracy\"])"
   ]
  },
  {
   "cell_type": "code",
   "execution_count": 97,
   "metadata": {},
   "outputs": [
    {
     "data": {
      "image/png": "[encoded data removed]",
      "text/plain": [
       "<Figure size 864x576 with 2 Axes>"
      ]
     },
     "metadata": {
      "needs_background": "light"
     },
     "output_type": "display_data"
    }
   ],
   "source": [
    "f, (ax1, ax2) = plt.subplots(1, 2, figsize=(12, 8))\n",
    "\n",
    "df_epochs_data[[\"train_loss\", \"test_loss\"]].plot(ax=ax1)\n",
    "df_epochs_data[[\"accuracy\"]].plot(ax=ax2)\n",
    "\n",
    "plt.ylim(bottom = 0.5)\n",
    "plt.show()"
   ]
  },
  {
   "cell_type": "code",
   "execution_count": null,
   "metadata": {},
   "outputs": [],
   "source": [
    "net.eval()\n",
    "Ypred_test = net(Xtest)\n",
    "print(classification_report(y_test, forest_pred))\n",
    "print(\"Overall Precision:\",precision_score(y_test, forest_pred, average='macro'))\n",
    "print(\"Overall Recall:\",recall_score(y_test, forest_pred, average='macro'))"
   ]
  },
  {
   "cell_type": "code",
   "execution_count": 98,
   "metadata": {},
   "outputs": [],
   "source": [
    "net.eval()\n",
    "Ypred_test = net(Xtest)"
   ]
  },
  {
   "cell_type": "code",
   "execution_count": 108,
   "metadata": {},
   "outputs": [],
   "source": [
    "_, pred = Ypred_test.data.max(1)\n",
    "Ypred_test_numpy = pred.detach().numpy()"
   ]
  },
  {
   "cell_type": "code",
   "execution_count": 109,
   "metadata": {},
   "outputs": [
    {
     "name": "stdout",
     "output_type": "stream",
     "text": [
      "              precision    recall  f1-score   support\n",
      "\n",
      "         0.0       1.00      0.80      0.89        25\n",
      "         1.0       0.78      0.86      0.82        21\n",
      "         2.0       0.86      0.90      0.88        21\n",
      "         3.0       0.83      1.00      0.91        10\n",
      "\n",
      "    accuracy                           0.87        77\n",
      "   macro avg       0.87      0.89      0.87        77\n",
      "weighted avg       0.88      0.87      0.87        77\n",
      "\n",
      "Overall Precision: 0.8698945981554678\n",
      "Overall Recall: 0.8904761904761904\n"
     ]
    }
   ],
   "source": [
    "print(classification_report(y_test, Ypred_test_numpy))\n",
    "print(\"Overall Precision:\",precision_score(y_test, Ypred_test_numpy, average='macro'))\n",
    "print(\"Overall Recall:\",recall_score(y_test, Ypred_test_numpy, average='macro'))"
   ]
  },
  {
   "cell_type": "code",
   "execution_count": 110,
   "metadata": {},
   "outputs": [
    {
     "data": {
      "image/png": "[encoded data removed]",
      "text/plain": [
       "<Figure size 432x288 with 2 Axes>"
      ]
     },
     "metadata": {
      "needs_background": "light"
     },
     "output_type": "display_data"
    }
   ],
   "source": [
    "# Print the confusion matrix\n",
    "mcm = confusion_matrix(y_test, Ypred_test_numpy)\n",
    "plt.imshow(mcm, interpolation=\"nearest\", cmap=plt.cm.Blues)\n",
    "plt.colorbar()\n",
    "tick_marks = np.arange(len(pattern_classes))\n",
    "plt.xticks(tick_marks, pattern_classes, rotation=45)\n",
    "plt.yticks(tick_marks, pattern_classes)\n",
    "plt.xlabel(\"Predicted Pattern\")\n",
    "plt.ylabel(\"Actual Pattern\")\n",
    "plt.show()"
   ]
  },
  {
   "cell_type": "code",
   "execution_count": 115,
   "metadata": {},
   "outputs": [],
   "source": [
    "class ComplexClassificationNet(nn.Module):\n",
    "    def __init__(self, hidden_size, activation_fn='relu', apply_dropout=False):\n",
    "        super(ComplexClassificationNet, self).__init__()\n",
    "\n",
    "        self.fc1 = nn.Linear(input_size, hidden_size)\n",
    "        self.fc2 = nn.Linear(hidden_size, hidden_size)\n",
    "        self.fc3 = nn.Linear(hidden_size, hidden_size)\n",
    "        self.fc4 = nn.Linear(hidden_size, output_size)\n",
    "\n",
    "        self.hidden_size = hidden_size\n",
    "        self.activation_fn = activation_fn\n",
    "\n",
    "        self.dropout = None\n",
    "        if apply_dropout:\n",
    "            self.dropout = nn.Dropout(0.2)\n",
    "\n",
    "    def forward(self, x):\n",
    "        activation_fn = None\n",
    "        if self.activation_fn == 'sigmoid':\n",
    "            activation_fn = F.torch.sigmoid\n",
    "        elif self.activation_fn == 'tanh':\n",
    "            activation_fn = F.torch.tanh\n",
    "        elif self.activation_fn == 'relu':\n",
    "            activation_fn = F.torch.relu\n",
    "        \n",
    "        x = activation_fn(self.fc1(x))\n",
    "        x = activation_fn(self.fc2(x))\n",
    "        x = activation_fn(self.fc3(x))\n",
    "\n",
    "        if self.dropout != None:\n",
    "            x = self.dropout(x)\n",
    "        \n",
    "        x = self.fc4(x)\n",
    "        return F.log_softmax(x, dim = -1)"
   ]
  },
  {
   "cell_type": "code",
   "execution_count": 140,
   "metadata": {},
   "outputs": [
    {
     "name": "stdout",
     "output_type": "stream",
     "text": [
      "epoch -100 (6%) train loss - 0.01 test loss - 0.73 Test accuracy - 0.8312\n",
      "epoch -200 (13%) train loss - 0.00 test loss - 0.91 Test accuracy - 0.8701\n",
      "epoch -300 (20%) train loss - 0.00 test loss - 0.96 Test accuracy - 0.8831\n",
      "epoch -400 (26%) train loss - 0.00 test loss - 1.09 Test accuracy - 0.8831\n",
      "epoch -500 (33%) train loss - 0.00 test loss - 1.08 Test accuracy - 0.8571\n",
      "epoch -600 (40%) train loss - 0.00 test loss - 1.23 Test accuracy - 0.8701\n",
      "epoch -700 (46%) train loss - 0.00 test loss - 1.21 Test accuracy - 0.8701\n",
      "epoch -800 (53%) train loss - 0.00 test loss - 1.29 Test accuracy - 0.8701\n",
      "epoch -900 (60%) train loss - 0.00 test loss - 1.27 Test accuracy - 0.8701\n",
      "epoch -1000 (66%) train loss - 0.00 test loss - 1.34 Test accuracy - 0.8701\n"
     ]
    }
   ],
   "source": [
    "net = ComplexClassificationNet(hidden_size=264, activation_fn='relu', apply_dropout=True)\n",
    "net\n",
    "result_128_relu = train_and_evaluate_model(net)"
   ]
  },
  {
   "cell_type": "code",
   "execution_count": 141,
   "metadata": {},
   "outputs": [],
   "source": [
    "result_model = result_64_relu\n",
    "df_epochs_data = pd.DataFrame(result_model['epoch_data'],\n",
    "                            columns=[\"epoch\", \"train_loss\", \"test_loss\", \"accuracy\"])"
   ]
  },
  {
   "cell_type": "code",
   "execution_count": 142,
   "metadata": {},
   "outputs": [
    {
     "data": {
      "image/png": "[encoded data removed]",
      "text/plain": [
       "<Figure size 864x576 with 2 Axes>"
      ]
     },
     "metadata": {
      "needs_background": "light"
     },
     "output_type": "display_data"
    }
   ],
   "source": [
    "f, (ax1, ax2) = plt.subplots(1, 2, figsize=(12, 8))\n",
    "\n",
    "df_epochs_data[[\"train_loss\", \"test_loss\"]].plot(ax=ax1)\n",
    "df_epochs_data[[\"accuracy\"]].plot(ax=ax2)\n",
    "\n",
    "plt.ylim(bottom = 0.5)\n",
    "plt.show()"
   ]
  },
  {
   "cell_type": "code",
   "execution_count": 143,
   "metadata": {},
   "outputs": [],
   "source": [
    "net.eval()\n",
    "Ypred_test = net(Xtest)"
   ]
  },
  {
   "cell_type": "code",
   "execution_count": 144,
   "metadata": {},
   "outputs": [],
   "source": [
    "_, pred = Ypred_test.data.max(1)\n",
    "Ypred_test_numpy = pred.detach().numpy()"
   ]
  },
  {
   "cell_type": "code",
   "execution_count": 145,
   "metadata": {},
   "outputs": [
    {
     "name": "stdout",
     "output_type": "stream",
     "text": [
      "              precision    recall  f1-score   support\n",
      "\n",
      "         0.0       0.91      0.80      0.85        25\n",
      "         1.0       0.90      0.86      0.88        21\n",
      "         2.0       0.90      0.90      0.90        21\n",
      "         3.0       0.71      1.00      0.83        10\n",
      "\n",
      "    accuracy                           0.87        77\n",
      "   macro avg       0.86      0.89      0.87        77\n",
      "weighted avg       0.88      0.87      0.87        77\n",
      "\n",
      "Overall Precision: 0.857034632034632\n",
      "Overall Recall: 0.8904761904761904\n"
     ]
    }
   ],
   "source": [
    "print(classification_report(y_test, Ypred_test_numpy))\n",
    "print(\"Overall Precision:\",precision_score(y_test, Ypred_test_numpy, average='macro'))\n",
    "print(\"Overall Recall:\",recall_score(y_test, Ypred_test_numpy, average='macro'))"
   ]
  },
  {
   "cell_type": "code",
   "execution_count": 146,
   "metadata": {},
   "outputs": [
    {
     "data": {
      "image/png": "[encoded data removed]",
      "text/plain": [
       "<Figure size 432x288 with 2 Axes>"
      ]
     },
     "metadata": {
      "needs_background": "light"
     },
     "output_type": "display_data"
    }
   ],
   "source": [
    "# Print the confusion matrix\n",
    "mcm = confusion_matrix(y_test, Ypred_test_numpy)\n",
    "plt.imshow(mcm, interpolation=\"nearest\", cmap=plt.cm.Blues)\n",
    "plt.colorbar()\n",
    "tick_marks = np.arange(len(pattern_classes))\n",
    "plt.xticks(tick_marks, pattern_classes, rotation=45)\n",
    "plt.yticks(tick_marks, pattern_classes)\n",
    "plt.xlabel(\"Predicted Pattern\")\n",
    "plt.ylabel(\"Actual Pattern\")\n",
    "plt.show()"
   ]
  },
  {
   "cell_type": "code",
   "execution_count": null,
   "metadata": {},
   "outputs": [],
   "source": []
  },
  {
   "cell_type": "code",
   "execution_count": 138,
   "metadata": {},
   "outputs": [],
   "source": []
  },
  {
   "cell_type": "code",
   "execution_count": 139,
   "metadata": {},
   "outputs": [
    {
     "ename": "NameError",
     "evalue": "name 'net' is not defined",
     "output_type": "error",
     "traceback": [
      "\u001b[1;31m---------------------------------------------------------------------------\u001b[0m",
      "\u001b[1;31mNameError\u001b[0m                                 Traceback (most recent call last)",
      "\u001b[1;32m~\\AppData\\Local\\Temp/ipykernel_14292/622009925.py\u001b[0m in \u001b[0;36m<module>\u001b[1;34m\u001b[0m\n\u001b[1;32m----> 1\u001b[1;33m \u001b[0mnet\u001b[0m\u001b[1;33m\u001b[0m\u001b[1;33m\u001b[0m\u001b[0m\n\u001b[0m",
      "\u001b[1;31mNameError\u001b[0m: name 'net' is not defined"
     ]
    }
   ],
   "source": []
  },
  {
   "cell_type": "code",
   "execution_count": null,
   "metadata": {},
   "outputs": [],
   "source": []
  }
 ],
 "metadata": {
  "kernelspec": {
   "display_name": "Python 3",
   "language": "python",
   "name": "python3"
  },
  "language_info": {
   "codemirror_mode": {
    "name": "ipython",
    "version": 3
   },
   "file_extension": ".py",
   "mimetype": "text/x-python",
   "name": "python",
   "nbconvert_exporter": "python",
   "pygments_lexer": "ipython3",
   "version": "3.9.6"
  }
 },
 "nbformat": 4,
 "nbformat_minor": 2
}
