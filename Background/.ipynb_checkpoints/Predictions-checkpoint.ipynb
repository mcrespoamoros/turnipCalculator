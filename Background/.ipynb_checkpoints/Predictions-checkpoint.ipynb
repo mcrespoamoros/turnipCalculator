{
 "cells": [
  {
   "cell_type": "code",
   "execution_count": 106,
   "metadata": {},
   "outputs": [],
   "source": [
    "import pandas as pd\n",
    "import numpy as np\n",
    "import matplotlib.pyplot as plt\n",
    "import seaborn as sns\n",
    "from sklearn.model_selection import train_test_split\n",
    "from sklearn.impute import SimpleImputer\n",
    "import ipywidgets as ipw"
   ]
  },
  {
   "cell_type": "code",
   "execution_count": 2,
   "metadata": {},
   "outputs": [],
   "source": [
    "import joblib\n",
    "\n",
    "# Importing the model\n",
    "filename = './models/forest_model.pkl'\n",
    "model = joblib.load(filename)"
   ]
  },
  {
   "cell_type": "markdown",
   "metadata": {},
   "source": [
    "## Prepare the data same way it was prepared before"
   ]
  },
  {
   "cell_type": "code",
   "execution_count": 112,
   "metadata": {},
   "outputs": [
    {
     "data": {
      "text/plain": [
       "SimpleImputer(add_indicator=False, copy=True, fill_value=None,\n",
       "              missing_values=nan, strategy='mean', verbose=0)"
      ]
     },
     "execution_count": 112,
     "metadata": {},
     "output_type": "execute_result"
    }
   ],
   "source": [
    "turnip_data = pd.read_csv('../Database/stonksData.csv')\n",
    "df = turnip_data[turnip_data['Pattern'].notnull()]\n",
    "pattern_classes = ['Fluctuating', 'Small Spike', 'Large Spike', 'Decreasing']\n",
    "pattern_label   = 'Pattern'\n",
    "pattern_feature = list(df.columns[df.columns != 'Pattern'])\n",
    "df_X, df_y = df[pattern_feature].values, df[pattern_label].values\n",
    "X_train, X_test, y_train, y_test = train_test_split(df_X, df_y,\n",
    "                                                   test_size=0.3,\n",
    "                                                   random_state=0,\n",
    "                                                   stratify=df_y)\n",
    "imp = SimpleImputer(missing_values=np.nan, strategy='mean')\n",
    "imp.fit(X_train)"
   ]
  },
  {
   "cell_type": "code",
   "execution_count": 104,
   "metadata": {},
   "outputs": [],
   "source": [
    "def prob_predict(model, prices):\n",
    "    if np.isnan(prices).any():\n",
    "        prices = imp.transform(prices)\n",
    "    model.predict(prices)\n",
    "    probs = model.predict_proba(prices)\n",
    "    prob100 = prob * 100\n",
    "    plt.bar(pattern_classes, prob100.reshape(4,))\n",
    "    plt.ylabel('Probability')\n",
    "    return probs"
   ]
  },
  {
   "cell_type": "code",
   "execution_count": 105,
   "metadata": {},
   "outputs": [
    {
     "data": {
      "image/png": "[encoded data removed]",
      "text/plain": [
       "<Figure size 432x288 with 1 Axes>"
      ]
     },
     "metadata": {
      "needs_background": "light"
     },
     "output_type": "display_data"
    }
   ],
   "source": [
    "prob = prob_predict(model, X_train[0:1])"
   ]
  },
  {
   "cell_type": "code",
   "execution_count": 124,
   "metadata": {},
   "outputs": [],
   "source": [
    "prevPattern = ['Fluctuating', 'Small Spike', 'Large Spike', 'Decreasing', 'Unknown']\n",
    "mondayAM = ipw.IntText(description='Monday AM')\n",
    "mondayPM = ipw.IntText(description='Monday PM')\n",
    "tuesdayAM = ipw.IntText(description='Tuesday AM')\n",
    "tuesdayPM = ipw.IntText(description='Tuesday PM')\n",
    "wednesdayAM = ipw.IntText(description='Wedenesday AM')\n",
    "wednesdayPM = ipw.IntText(description='Wedenesday PM')\n",
    "thursdayAM = ipw.IntText(description='Thursday AM')\n",
    "thursdayPM = ipw.IntText(description='Thursday PM')\n",
    "fridayAM = ipw.IntText(description='Friday AM')\n",
    "fridayPM = ipw.IntText(description='Friday PM')\n",
    "saturdayAM = ipw.IntText(description='Saturday AM')\n",
    "saturdayPM = ipw.IntText(description='Saturday PM')\n",
    "sunday = ipw.IntText(description='Sunday Price')\n",
    "prevPattern = ipw.Dropdown(options=prevPattern,description='Previous Pattern')"
   ]
  },
  {
   "cell_type": "code",
   "execution_count": 128,
   "metadata": {},
   "outputs": [
    {
     "data": {
      "application/vnd.jupyter.widget-view+json": {
       "model_id": "fd4875d905b2484ea3ae3ccb9f0deed5",
       "version_major": 2,
       "version_minor": 0
      },
      "text/plain": [
       "VBox(children=(Dropdown(description='Previous Pattern', options=('Fluctuating', 'Small Spike', 'Large Spike', …"
      ]
     },
     "metadata": {},
     "output_type": "display_data"
    }
   ],
   "source": [
    "morning_row = ipw.HBox([mondayAM, tuesdayAM, wednesdayAM, thursdayAM, fridayAM, saturdayAM])\n",
    "evening_row = ipw.HBox([mondayPM, tuesdayPM, wednesdayPM, thursdayPM, fridayPM, saturdayPM])\n",
    "dataDisp = ipw.VBox([prevPattern, sunday, morning_row, evening_row])\n",
    "dataDisp"
   ]
  },
  {
   "cell_type": "code",
   "execution_count": 137,
   "metadata": {},
   "outputs": [],
   "source": [
    "a = dataDisp."
   ]
  },
  {
   "cell_type": "code",
   "execution_count": 140,
   "metadata": {},
   "outputs": [
    {
     "name": "stdout",
     "output_type": "stream",
     "text": [
      "(Dropdown(description='Previous Pattern', options=('Fluctuating', 'Small Spike', 'Large Spike', 'Decreasing', 'Unknown'), value='Fluctuating'), IntText(value=5, description='Sunday Price'), HBox(children=(IntText(value=0, description='Monday AM'), IntText(value=0, description='Tuesday AM'), IntText(value=0, description='Wedenesday AM'), IntText(value=0, description='Thursday AM'), IntText(value=0, description='Friday AM'), IntText(value=0, description='Saturday AM'))), HBox(children=(IntText(value=0, description='Monday PM'), IntText(value=0, description='Tuesday PM'), IntText(value=0, description='Wedenesday PM'), IntText(value=0, description='Thursday PM'), IntText(value=0, description='Friday PM'), IntText(value=0, description='Saturday PM'))))\n"
     ]
    }
   ],
   "source": [
    "print(a)"
   ]
  },
  {
   "cell_type": "code",
   "execution_count": null,
   "metadata": {},
   "outputs": [],
   "source": []
  }
 ],
 "metadata": {
  "kernelspec": {
   "display_name": "Python 3",
   "language": "python",
   "name": "python3"
  },
  "language_info": {
   "codemirror_mode": {
    "name": "ipython",
    "version": 3
   },
   "file_extension": ".py",
   "mimetype": "text/x-python",
   "name": "python",
   "nbconvert_exporter": "python",
   "pygments_lexer": "ipython3",
   "version": "3.7.3"
  }
 },
 "nbformat": 4,
 "nbformat_minor": 2
}
